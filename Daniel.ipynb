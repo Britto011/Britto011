{
  "nbformat": 4,
  "nbformat_minor": 0,
  "metadata": {
    "colab": {
      "provenance": [],
      "authorship_tag": "ABX9TyP7k54ExOh64d84GS53XbUY",
      "include_colab_link": true
    },
    "kernelspec": {
      "name": "python3",
      "display_name": "Python 3"
    },
    "language_info": {
      "name": "python"
    }
  },
  "cells": [
    {
      "cell_type": "markdown",
      "metadata": {
        "id": "view-in-github",
        "colab_type": "text"
      },
      "source": [
        "<a href=\"https://colab.research.google.com/github/Britto011/Britto011/blob/main/Daniel.ipynb\" target=\"_parent\"><img src=\"https://colab.research.google.com/assets/colab-badge.svg\" alt=\"Open In Colab\"/></a>"
      ]
    },
    {
      "cell_type": "code",
      "execution_count": 14,
      "metadata": {
        "colab": {
          "base_uri": "https://localhost:8080/"
        },
        "id": "9u9_YZVUh0Mt",
        "outputId": "6ae89c13-d68b-485d-9581-fc80a764b3ed"
      },
      "outputs": [
        {
          "output_type": "stream",
          "name": "stdout",
          "text": [
            "Antes da listcomp =  ['Python', 'Java', 'JavaScript', 'C', 'C#', 'C++', 'Swift', 'Go', 'Kotlin']\n",
            "/nDepois da listcomp =  ['python', 'java', 'javascript', 'c', 'c#', 'c++', 'swift', 'go', 'kotlin']\n"
          ]
        }
      ],
      "source": [
        "linguagens = [\"Python\", \"Java\", \"JavaScript\", \"C\", \"C#\", \"C++\", \"Swift\", \"Go\", \"Kotlin\"]\n",
        "print(\"Antes da listcomp = \" , linguagens)\n",
        "linguagens = [item.lower() for item in linguagens]\n",
        "print(\"/nDepois da listcomp = \", linguagens)"
      ]
    },
    {
      "cell_type": "code",
      "source": [
        "#função map!\n",
        "#aplica uma funçaõ em toda sequencia\n",
        "#map(função, sequencia)\n",
        "precos_em_dolares = [100, 50, 75, 120]\n",
        "taxa_de_cambio = 5.75\n",
        "precos_em_reais = list(map(lambda x: x * taxa_de_cambio, precos_em_dolares))\n",
        "print(precos_em_reais)"
      ],
      "metadata": {
        "colab": {
          "base_uri": "https://localhost:8080/"
        },
        "id": "3f4nUXiFh83k",
        "outputId": "2293dc77-72c2-4adc-fd35-69717688c74e"
      },
      "execution_count": 13,
      "outputs": [
        {
          "output_type": "stream",
          "name": "stdout",
          "text": [
            "[575.0, 287.5, 431.25, 690.0]\n"
          ]
        }
      ]
    },
    {
      "cell_type": "code",
      "source": [
        "#função filter!\n",
        "#filtra os elementos de uma sequência  com base em uma função de teste (retorna true or false)\n",
        "#filter(funcao_testes, sequencia\n",
        "numeros = [1, 2, 3, 4, 5, 6, 7, 8, 9, 10]\n",
        "numeros_pares = list(filter(lambda x: x% 2 == 0, numeros))\n",
        "print(numeros_pares)"
      ],
      "metadata": {
        "colab": {
          "base_uri": "https://localhost:8080/"
        },
        "id": "cCz8lCdnkiE0",
        "outputId": "af697e92-27d8-462e-d3c5-d1c6bcc298b5"
      },
      "execution_count": 15,
      "outputs": [
        {
          "output_type": "stream",
          "name": "stdout",
          "text": [
            "[2, 4, 6, 8, 10]\n"
          ]
        }
      ]
    },
    {
      "cell_type": "markdown",
      "source": [],
      "metadata": {
        "id": "_K2gWsMih8oN"
      }
    },
    {
      "cell_type": "code",
      "source": [
        "#A ORDEM IMPORTA --\n",
        "#EXEMPLOS DE MAIS TUPLAS E UTILIZADE\n",
        "vogais = ('a', 'e', 'i', 'o', 'u')\n",
        "print(f\"Tipo do objeto vogais = {type(vogais)}\")\n",
        "for p, x in enumerate(vogais):\n",
        "    print(f\"Posição = {p}, valor = {x}\")"
      ],
      "metadata": {
        "colab": {
          "base_uri": "https://localhost:8080/"
        },
        "id": "UXIBthtWlwnM",
        "outputId": "b046d4da-b6ec-4899-dcc3-915cf30c6ca6"
      },
      "execution_count": 16,
      "outputs": [
        {
          "output_type": "stream",
          "name": "stdout",
          "text": [
            "Tipo do objeto vogais = <class 'tuple'>\n",
            "Posição = 0, valor = a\n",
            "Posição = 1, valor = e\n",
            "Posição = 2, valor = i\n",
            "Posição = 3, valor = o\n",
            "Posição = 4, valor = u\n"
          ]
        }
      ]
    },
    {
      "cell_type": "code",
      "source": [
        "# Tupla de convidados\n",
        "convidados = (\"Alice\", \"Bob\", \"Carol\", \"David\", \"Eve\")\n",
        "\n",
        "# Lista de confirmações\n",
        "confirmados = [\"Bob\", \"David\"]\n",
        "\n",
        "# Identificar quem ainda não confirmou\n",
        "nao_confirmados = [convidado for convidado in convidados if convidado not in confirmados]\n",
        "\n",
        "# Exibir os convidados que ainda não confirmaram\n",
        "print(\"Convidados que ainda não confirmaram:\")\n",
        "for pessoa in nao_confirmados:\n",
        "    print(pessoa)\n",
        "\n",
        "# Enviar lembretes aos não confirmados\n",
        "\n",
        "print(\"/nEnviando lembretes para os convidados que ainda não confirmaram.\")"
      ],
      "metadata": {
        "colab": {
          "base_uri": "https://localhost:8080/"
        },
        "id": "QBFt5287oR6Z",
        "outputId": "1a5b8dc9-5f51-4420-dfc6-b9621054cbef"
      },
      "execution_count": 17,
      "outputs": [
        {
          "output_type": "stream",
          "name": "stdout",
          "text": [
            "Convidados que ainda não confirmaram:\n",
            "Alice\n",
            "Carol\n",
            "Eve\n",
            "/nEnviando lembretes para os convidados que ainda não confirmaram.\n"
          ]
        }
      ]
    }
  ]
}